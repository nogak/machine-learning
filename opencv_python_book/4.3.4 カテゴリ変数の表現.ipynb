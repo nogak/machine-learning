{
 "cells": [
  {
   "cell_type": "code",
   "execution_count": 1,
   "metadata": {},
   "outputs": [
    {
     "data": {
      "text/plain": [
       "array([[1912, 1954,    1,    0,    0,    0,    0],\n",
       "       [1916, 2001,    0,    1,    0,    0,    0],\n",
       "       [1927, 2010,    0,    0,    0,    1,    0],\n",
       "       [1915, 1990,    0,    0,    1,    0,    0],\n",
       "       [1927, 2016,    0,    0,    0,    0,    1]])"
      ]
     },
     "execution_count": 1,
     "metadata": {},
     "output_type": "execute_result"
    }
   ],
   "source": [
    "# カテゴリ変数を表現する\n",
    "data = [\n",
    "    {'name': 'Alan Turing', 'born': 1912, 'died': 1954},\n",
    "    {'name': 'Herbert A. Simon', 'born': 1916, 'died': 2001},\n",
    "    {'name': 'Jacek Karpinski', 'born': 1927, 'died': 2010},\n",
    "    {'name': 'J.C.R. Licklider', 'born': 1915, 'died': 1990},\n",
    "    {'name': 'Marvin Minsky', 'born': 1927, 'died': 2016}\n",
    "] # これを符号化したい\n",
    "\n",
    "# 符号化する\n",
    "from sklearn.feature_extraction import DictVectorizer\n",
    "vec = DictVectorizer(sparse=False, dtype=int)\n",
    "vec.fit_transform(data)"
   ]
  },
  {
   "cell_type": "code",
   "execution_count": 2,
   "metadata": {},
   "outputs": [
    {
     "data": {
      "text/plain": [
       "['born',\n",
       " 'died',\n",
       " 'name=Alan Turing',\n",
       " 'name=Herbert A. Simon',\n",
       " 'name=J.C.R. Licklider',\n",
       " 'name=Jacek Karpinski',\n",
       " 'name=Marvin Minsky']"
      ]
     },
     "execution_count": 2,
     "metadata": {},
     "output_type": "execute_result"
    }
   ],
   "source": [
    "vec.get_feature_names()"
   ]
  },
  {
   "cell_type": "code",
   "execution_count": 3,
   "metadata": {},
   "outputs": [
    {
     "data": {
      "text/plain": [
       "<5x7 sparse matrix of type '<class 'numpy.int64'>'\n",
       "\twith 15 stored elements in Compressed Sparse Row format>"
      ]
     },
     "execution_count": 3,
     "metadata": {},
     "output_type": "execute_result"
    }
   ],
   "source": [
    "# sparse=Trueにすることでよりコンパクトにできる\n",
    "vec = DictVectorizer(sparse=True, dtype=int)\n",
    "vec.fit_transform(data)"
   ]
  }
 ],
 "metadata": {
  "kernelspec": {
   "display_name": "py3env",
   "language": "python",
   "name": "py3env"
  },
  "language_info": {
   "codemirror_mode": {
    "name": "ipython",
    "version": 3
   },
   "file_extension": ".py",
   "mimetype": "text/x-python",
   "name": "python",
   "nbconvert_exporter": "python",
   "pygments_lexer": "ipython3",
   "version": "3.6.8"
  }
 },
 "nbformat": 4,
 "nbformat_minor": 2
}
